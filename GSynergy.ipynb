{
  "nbformat": 4,
  "nbformat_minor": 0,
  "metadata": {
    "colab": {
      "provenance": []
    },
    "kernelspec": {
      "name": "python3",
      "display_name": "Python 3"
    },
    "language_info": {
      "name": "python"
    }
  },
  "cells": [
    {
      "cell_type": "code",
      "execution_count": 6,
      "metadata": {
        "colab": {
          "base_uri": "https://localhost:8080/"
        },
        "id": "KFy4fh_J22mF",
        "outputId": "7352a845-fc9a-40f6-ac0d-be388d40d835"
      },
      "outputs": [
        {
          "output_type": "stream",
          "name": "stdout",
          "text": [
            "fscldt_id|sku_id|average_unit_standardcost|average_unit_landedcost\n",
            "20160131|0174410000|10.06|10.06\n",
            "20160201|0174410000|10.06|10.06\n",
            "20160202|0174410000|10.06|10.06\n",
            "20160203|0174410000|10.06|10.06\n",
            "20160204|0174410000|10.06|10.06\n",
            "20160205|0174410000|10.06|10.06\n",
            "20160206|0174410000|10.06|10.06\n",
            "20160207|0174410000|10.06|10.06\n",
            "20160208|0174410000|10.06|10.06\n"
          ]
        }
      ],
      "source": [
        "# Running this to unzip the file and to see the first few lines.\n",
        "!gunzip -c /content/fact.averagecosts.dlm.gz | head -10"
      ]
    },
    {
      "cell_type": "code",
      "source": [
        "# Step 1 : Extracting and inspecting the data.\n",
        "\n",
        "import gzip\n",
        "\n",
        "file_path = \"fact.averagecosts.dlm.gz\"\n",
        "\n",
        "with gzip.open(file_path, \"rt\", encoding=\"utf-8\") as f:\n",
        "    for i in range(10):  # Read first 10 lines\n",
        "        print(f.readline().strip())\n"
      ],
      "metadata": {
        "colab": {
          "base_uri": "https://localhost:8080/"
        },
        "id": "8bKzFv4Y3MDV",
        "outputId": "e6a2f552-3ee4-4144-9d1e-c0e10c7e7379"
      },
      "execution_count": 8,
      "outputs": [
        {
          "output_type": "stream",
          "name": "stdout",
          "text": [
            "fscldt_id|sku_id|average_unit_standardcost|average_unit_landedcost\n",
            "20160131|0174410000|10.06|10.06\n",
            "20160201|0174410000|10.06|10.06\n",
            "20160202|0174410000|10.06|10.06\n",
            "20160203|0174410000|10.06|10.06\n",
            "20160204|0174410000|10.06|10.06\n",
            "20160205|0174410000|10.06|10.06\n",
            "20160206|0174410000|10.06|10.06\n",
            "20160207|0174410000|10.06|10.06\n",
            "20160208|0174410000|10.06|10.06\n"
          ]
        }
      ]
    }
  ]
}